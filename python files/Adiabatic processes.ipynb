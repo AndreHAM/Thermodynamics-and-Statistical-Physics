{
 "cells": [
  {
   "cell_type": "code",
   "execution_count": 41,
   "metadata": {},
   "outputs": [],
   "source": [
    "from __future__ import print_function\n",
    "from ipywidgets import interact, interactive, fixed, interact_manual\n",
    "import ipywidgets as widgets\n",
    "import matplotlib.pyplot as plt\n",
    "import numpy as np"
   ]
  },
  {
   "cell_type": "code",
   "execution_count": 42,
   "metadata": {},
   "outputs": [
    {
     "data": {
      "application/vnd.jupyter.widget-view+json": {
       "model_id": "9b608ab121e140e498b9296162413e47",
       "version_major": 2,
       "version_minor": 0
      },
      "text/plain": [
       "interactive(children=(FloatSlider(value=5500.0, description='Cte', max=10000.0, min=1000.0, step=10.0), FloatS…"
      ]
     },
     "metadata": {},
     "output_type": "display_data"
    }
   ],
   "source": [
    "R = 8.31441 # J/(K mol)- Gas constant\n",
    "n = 1 # number of moles\n",
    "gamma = 5/3 # heat capacity ratio || 5/3 for monoatomic gases\n",
    "\n",
    "\n",
    "# Adiabatic Process for ideal gases\n",
    "\n",
    "def P(Cte,Va,Vb):\n",
    "    \n",
    "    plt.figure(figsize=(7,7))\n",
    "    \n",
    "    # Volume points\n",
    "    V = np.linspace(1, 100, num=1000)\n",
    "    v = np.linspace(Va, Vb, num=100)\n",
    "    \n",
    "    # Vertical lines\n",
    "    plt.axvline(Va, 0 , 1,color='grey',linestyle='dashed')\n",
    "    plt.axvline(Vb, 0 , 1,color='grey',linestyle='dashed')\n",
    "    \n",
    "    \n",
    "    # Plots\n",
    "    plt.plot(V,Cte/np.power(V,gamma))\n",
    "    \n",
    "    plt.text(120,80, r'$ Work:  W = \\frac{P_{b}V_{b}-P_{a}V_{a}}{1-\\gamma} =$' + str(format((Vb*(Cte/np.power(Vb,gamma))-Va*(Cte/np.power(Va,gamma)))/(1-gamma),'.2f')) + 'J',fontsize=20)\n",
    "    plt.text(120,60, r'$ Heat:  Q = 0$',fontsize=20)\n",
    "    plt.text(120,40, r'$ \\Delta S =\\frac{Q}{T} = 0$',fontsize=20)\n",
    "    \n",
    "   \n",
    "    plt.title('Adiabatic process')\n",
    "    plt.ylabel('pressure')\n",
    "    plt.xlabel('volume')\n",
    "    plt.ylim(0, 100)\n",
    "    plt.xlim(0, 100)\n",
    "    plt.fill_between(v, 0, Cte/np.power(v,gamma), interpolate=True,color='grey', alpha=0.2)\n",
    "    \n",
    "    plt.show()\n",
    " \n",
    "    \n",
    "plot = interactive(P, Cte = (1000, 10000.0,10), Va = (0.1,100), Vb = (0.1,100))\n",
    "plot\n"
   ]
  },
  {
   "cell_type": "code",
   "execution_count": null,
   "metadata": {},
   "outputs": [],
   "source": []
  }
 ],
 "metadata": {
  "kernelspec": {
   "display_name": "Python 3",
   "language": "python",
   "name": "python3"
  },
  "language_info": {
   "codemirror_mode": {
    "name": "ipython",
    "version": 3
   },
   "file_extension": ".py",
   "mimetype": "text/x-python",
   "name": "python",
   "nbconvert_exporter": "python",
   "pygments_lexer": "ipython3",
   "version": "3.7.6"
  }
 },
 "nbformat": 4,
 "nbformat_minor": 4
}
