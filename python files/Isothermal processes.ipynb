{
 "cells": [
  {
   "cell_type": "code",
   "execution_count": 148,
   "metadata": {},
   "outputs": [],
   "source": [
    "from __future__ import print_function\n",
    "from ipywidgets import interact, interactive, fixed, interact_manual\n",
    "import ipywidgets as widgets\n",
    "import matplotlib.pyplot as plt\n",
    "import numpy as np"
   ]
  },
  {
   "cell_type": "code",
   "execution_count": 149,
   "metadata": {},
   "outputs": [
    {
     "data": {
      "application/vnd.jupyter.widget-view+json": {
       "model_id": "42465fd959d14230838ab5fb19b33826",
       "version_major": 2,
       "version_minor": 0
      },
      "text/plain": [
       "interactive(children=(FloatSlider(value=150.0, description='T', max=300.0, min=10.0, step=10.0), IntSlider(val…"
      ]
     },
     "metadata": {},
     "output_type": "display_data"
    }
   ],
   "source": [
    "R = 8.31441 # J/(K mol)- Gas constant\n",
    "n = 1 # number of moles\n",
    "gamma = 5/3 # heat capacity ratio || 5/3 for monoatomic gases\n",
    "\n",
    "\n",
    "# Isothermal Process\n",
    "\n",
    "def P(T,Va,Vb):\n",
    "    \n",
    "    plt.figure(figsize=(7,7))\n",
    "    \n",
    "    # Volume points\n",
    "    V = np.linspace(1, 100, num=1000)\n",
    "    v = np.linspace(Va, Vb, num=100)\n",
    "    \n",
    "    plt.axvline(Va, 0 , 1,color='grey',linestyle='dashed')\n",
    "    plt.axvline(Vb, 0 , 1,color='grey',linestyle='dashed')\n",
    "    \n",
    "    \n",
    "    # Plot\n",
    "    plt.plot(V, n*R*T/V, label = \"Temperature\")\n",
    "    \n",
    "    plt.text(120,80, r'$ Work = W = -n R Tlog\\left(\\frac{V_{f}}{V_{i}}\\right)=$' + str(format(-n*R*T*np.log(Vb/Va),'.2f')) + '  J',fontsize=20)\n",
    "    plt.text(120,60, r'$ Heat = Q = - W$',fontsize=20)\n",
    "    \n",
    "    \n",
    "    \n",
    "    plt.title('Isothermal process')\n",
    "    plt.ylabel('pressure')\n",
    "    plt.xlabel('volume')\n",
    "    plt.ylim(0, 100)\n",
    "    plt.xlim(0, 100)\n",
    "    fill_between(v, 0, n*R*T/v, interpolate=True,color='grey', alpha=0.2)\n",
    "    \n",
    "    plt.show()\n",
    " \n",
    "    \n",
    "plot = interactive(P, T = (10, 300.0,10), Va = (0,50), Vb = (50,100))\n",
    "plot\n",
    "\n",
    "\n"
   ]
  }
 ],
 "metadata": {
  "kernelspec": {
   "display_name": "Python 3",
   "language": "python",
   "name": "python3"
  },
  "language_info": {
   "codemirror_mode": {
    "name": "ipython",
    "version": 3
   },
   "file_extension": ".py",
   "mimetype": "text/x-python",
   "name": "python",
   "nbconvert_exporter": "python",
   "pygments_lexer": "ipython3",
   "version": "3.7.6"
  }
 },
 "nbformat": 4,
 "nbformat_minor": 4
}
